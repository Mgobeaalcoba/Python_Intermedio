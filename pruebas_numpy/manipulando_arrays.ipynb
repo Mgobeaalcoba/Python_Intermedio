{
 "cells": [
  {
   "cell_type": "markdown",
   "source": [
    "Manipulando arrays\r\n",
    "Es hora de manipular los arrays. De manera muy parecida a las listas, los ndarrays permiten hacer slicing con la notación [filas, columnas] y sus índices inician en 0.\r\n",
    "\r\n",
    "Se puede hacer slicing con esta notación [2:5, 3:6]. Para seleccionar toda una columna o fila, se usa :. Por ejemplo:\r\n",
    "\r\n",
    "[1, :] ← esto selecciona todas las columnas de la segunda fila.\r\n",
    "[:, 2] ← esto selecciona todas las filas de la tercera columna.\r\n",
    "Veamos algunos ejemplos con una matriz para que quede más claro."
   ],
   "metadata": {}
  },
  {
   "cell_type": "code",
   "execution_count": 1,
   "source": [
    "import numpy as np"
   ],
   "outputs": [],
   "metadata": {}
  },
  {
   "cell_type": "code",
   "execution_count": 3,
   "source": [
    "matrix_cool = np.arange(9).reshape(3, 3)\r\n",
    "print(matrix_cool)\r\n",
    "print(\"\\n\")\r\n",
    "print(matrix_cool[1, 2])\r\n",
    "print(\"\\n\")\r\n",
    "print(matrix_cool[0, :])\r\n",
    "print(\"\\n\")\r\n",
    "print(matrix_cool[:, 1])\r\n",
    "print(\"\\n\")\r\n",
    "print(matrix_cool[:, 1:])\r\n",
    "print(\"\\n\")\r\n",
    "print(matrix_cool[0:2, 0:2])\r\n",
    "print(\"\\n\")\r\n",
    "print(matrix_cool[:, :])\r\n"
   ],
   "outputs": [
    {
     "output_type": "stream",
     "name": "stdout",
     "text": [
      "[[0 1 2]\n",
      " [3 4 5]\n",
      " [6 7 8]]\n",
      "\n",
      "\n",
      "5\n",
      "\n",
      "\n",
      "[0 1 2]\n",
      "\n",
      "\n",
      "[1 4 7]\n",
      "\n",
      "\n",
      "[[1 2]\n",
      " [4 5]\n",
      " [7 8]]\n",
      "\n",
      "\n",
      "[[0 1]\n",
      " [3 4]]\n",
      "\n",
      "\n",
      "[[0 1 2]\n",
      " [3 4 5]\n",
      " [6 7 8]]\n"
     ]
    }
   ],
   "metadata": {}
  }
 ],
 "metadata": {
  "orig_nbformat": 4,
  "language_info": {
   "name": "python",
   "version": "3.8.2",
   "mimetype": "text/x-python",
   "codemirror_mode": {
    "name": "ipython",
    "version": 3
   },
   "pygments_lexer": "ipython3",
   "nbconvert_exporter": "python",
   "file_extension": ".py"
  },
  "kernelspec": {
   "name": "python3",
   "display_name": "Python 3.8.2 32-bit (system)"
  },
  "interpreter": {
   "hash": "fea2a284d1be9c3bf2b21f09b01b96654e6c0c14c0560d7f8fb0bdce57db2431"
  }
 },
 "nbformat": 4,
 "nbformat_minor": 2
}