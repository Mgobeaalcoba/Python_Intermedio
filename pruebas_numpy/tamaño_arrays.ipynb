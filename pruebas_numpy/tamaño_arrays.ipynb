{
 "cells": [
  {
   "cell_type": "markdown",
   "source": [
    "Tamaño de los arrays\r\n",
    "Hay un par de funciones y métodos que te ayudarán a saber las dimensiones que un array y su tipo de datos:\r\n",
    "\r\n",
    ".shape: devuelve las dimensiones del array. Para una matriz el primer valor son las filas y el segundo las columnas. Para un tensor el primer valor es la “profundidad”, el segundo las filas y el tercero las columnas.\r\n",
    ".reshape(): redimensiona un array, es decir, te permite crear matrices o tensores a partir de vectores y viceversa. También funciona como método.\r\n",
    ".dtype: devuelve el tipo de dato de un array."
   ],
   "metadata": {}
  },
  {
   "cell_type": "code",
   "execution_count": 1,
   "source": [
    "import numpy as np"
   ],
   "outputs": [],
   "metadata": {}
  },
  {
   "cell_type": "code",
   "execution_count": 2,
   "source": [
    "C = np.arange(1, 9).reshape(2, 2, 2)\r\n",
    "print(C)"
   ],
   "outputs": [
    {
     "output_type": "stream",
     "name": "stdout",
     "text": [
      "[[[1 2]\n",
      "  [3 4]]\n",
      "\n",
      " [[5 6]\n",
      "  [7 8]]]\n"
     ]
    }
   ],
   "metadata": {}
  },
  {
   "cell_type": "code",
   "execution_count": 4,
   "source": [
    "a = np.arange(1,10)\r\n",
    "B = np.reshape(a, [3,3])\r\n",
    "print(a)\r\n",
    "print(B)"
   ],
   "outputs": [
    {
     "output_type": "stream",
     "name": "stdout",
     "text": [
      "[1 2 3 4 5 6 7 8 9]\n",
      "[[1 2 3]\n",
      " [4 5 6]\n",
      " [7 8 9]]\n"
     ]
    }
   ],
   "metadata": {}
  },
  {
   "cell_type": "code",
   "execution_count": 11,
   "source": [
    "print(np.shape(a))\r\n",
    "print(np.shape(B))\r\n",
    "print(a.dtype) # dtype se usa como metodo de una variable tipo arreglo"
   ],
   "outputs": [
    {
     "output_type": "stream",
     "name": "stdout",
     "text": [
      "(9,)\n",
      "(3, 3)\n",
      "int32\n"
     ]
    }
   ],
   "metadata": {}
  }
 ],
 "metadata": {
  "orig_nbformat": 4,
  "language_info": {
   "name": "python",
   "version": "3.8.2",
   "mimetype": "text/x-python",
   "codemirror_mode": {
    "name": "ipython",
    "version": 3
   },
   "pygments_lexer": "ipython3",
   "nbconvert_exporter": "python",
   "file_extension": ".py"
  },
  "kernelspec": {
   "name": "python3",
   "display_name": "Python 3.8.2 32-bit (system)"
  },
  "interpreter": {
   "hash": "fea2a284d1be9c3bf2b21f09b01b96654e6c0c14c0560d7f8fb0bdce57db2431"
  }
 },
 "nbformat": 4,
 "nbformat_minor": 2
}