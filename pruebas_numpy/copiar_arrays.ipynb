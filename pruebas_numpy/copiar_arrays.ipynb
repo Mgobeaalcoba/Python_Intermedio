{
 "cells": [
  {
   "cell_type": "markdown",
   "source": [
    "Copiar un array de NumPy\r\n",
    "Al ser mutables, para copiar un ndarray lo mejor es usar array1.copy() o nuevamente np.array(array1)."
   ],
   "metadata": {}
  },
  {
   "cell_type": "code",
   "execution_count": 1,
   "source": [
    "import numpy as np"
   ],
   "outputs": [],
   "metadata": {}
  },
  {
   "cell_type": "code",
   "execution_count": 5,
   "source": [
    "# Forma incorrecta de copiar un array. Ya que al modificar\r\n",
    "# un array se modifica tmb la copia\r\n",
    "\r\n",
    "A1 = np.array([2, 4, 6])\r\n",
    "A2 = A1\r\n",
    "A1[0] = 8\r\n",
    "print(A1)\r\n",
    "print(A2)\r\n",
    "\r\n",
    "print(\"\\n\\n\")\r\n",
    "# Forma correcta de copiar un array. Ya que al modificar\r\n",
    "# un array no se modificar su copia. \r\n",
    "\r\n",
    "a1 = np.array([2, 4, 6])\r\n",
    "a2 = a1.copy()\r\n",
    "a1[0] = 8\r\n",
    "print(a1)\r\n",
    "print(a2)\r\n"
   ],
   "outputs": [
    {
     "output_type": "stream",
     "name": "stdout",
     "text": [
      "[8 4 6]\n",
      "[8 4 6]\n",
      "\n",
      "\n",
      "\n",
      "[8 4 6]\n",
      "[2 4 6]\n"
     ]
    }
   ],
   "metadata": {}
  }
 ],
 "metadata": {
  "orig_nbformat": 4,
  "language_info": {
   "name": "python",
   "version": "3.8.2",
   "mimetype": "text/x-python",
   "codemirror_mode": {
    "name": "ipython",
    "version": 3
   },
   "pygments_lexer": "ipython3",
   "nbconvert_exporter": "python",
   "file_extension": ".py"
  },
  "kernelspec": {
   "name": "python3",
   "display_name": "Python 3.8.2 32-bit (system)"
  },
  "interpreter": {
   "hash": "fea2a284d1be9c3bf2b21f09b01b96654e6c0c14c0560d7f8fb0bdce57db2431"
  }
 },
 "nbformat": 4,
 "nbformat_minor": 2
}